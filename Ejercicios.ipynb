{
 "cells": [
  {
   "cell_type": "code",
   "execution_count": null,
   "metadata": {},
   "outputs": [],
   "source": [
    "i : int = 0 #se declara i como entero e inicia desde 0\n",
    "j = int #se declara i como entero, este ayudrará a guardar y mostrar los cuadrados\n",
    "while(i < 100): #mientras que i sea menor a 100\n",
    "  i += 1 #se le sumará 1 a i cada vez que se repita el ciclo\n",
    "  j = i**2 #j será el cuadrado del valor de i\n",
    "  print(\"El cuadrado del número\" ,i, \"es\" ,j) #se imprime los valores de las variables respectivamente"
   ]
  },
  {
   "cell_type": "code",
   "execution_count": null,
   "metadata": {},
   "outputs": [],
   "source": [
    "i : int = 0 #se declara i como entero e inicia desde 0\n",
    "print(\"Los números impares desde 1 hasta 999 son:\") #se imprime este mensaje\n",
    "while(i < 1000): #Mientras que el valor i sea menor a 1000\n",
    "  i += 1 #se le suma 1 al valor de i cada vez que se repita el ciclo\n",
    "  if i % 2 == 1: #Si el residuo de la operación i/2 es igual a 1, imprimirá el valor de i y por ende, es impar.\n",
    "    print (i)\n",
    "i = 0 #Se inicia de nuevo i desde 0\n",
    "print(\"Los números pares desde 2 hasta 1000 son:\") #se imprime este mensaje\n",
    "while(i < 1000): #Mientras que el valor i sea menor a 1000\n",
    "  i += 1 #se le suma 1 al valor de i cada vez que se repita el ciclo\n",
    "  if i % 2 == 0: #Si el residuo de la operación i/2 es igual a 0, imprimirá el valor de i y por ende, es par.\n",
    "    print (i)"
   ]
  },
  {
   "cell_type": "code",
   "execution_count": null,
   "metadata": {},
   "outputs": [],
   "source": [
    "i = int(input(\"Ingrese cualquier número natural mayor o igual a 2: \")) #se declara i como entro y se le pide al usuario que defina la variable\n",
    "print(\"Los números pares que son mayores o iguales a 2 y menores o iguales al número\" ,i, \"son:\") #Se imprime este mensaje\n",
    "while i >= 2: #Mientras que i sea mayor o igual a 2\n",
    "    if i % 2 == 0: #Si el residuo de la operacio i/2 es igual a 0, imprimirá el valor de i, por ende, éste será par.\n",
    "        print(i)\n",
    "    i -= 1 #Se le resta 1 al valor de i, y se repetirá el ciclo hasta que la condición de éste cumpla"
   ]
  },
  {
   "cell_type": "code",
   "execution_count": null,
   "metadata": {},
   "outputs": [],
   "source": [
    "a : float = 25000000 #se declara a como flotante e inicia desde 25000000\n",
    "b : float = 18900000 #se declara b como flotante e inicia desde 18900000\n",
    "year : int = 2022 #se declara year como entero e inicia desde 2022\n",
    "while a>b: #mientras que valor de a sea mayor que b, éste imprimirá e valor de la variables\n",
    "    print(\"Para\",year, \"el país A tendrá una población de\",a, \"de habitantes y el país B de\",b)\n",
    "    year += 1 #el ciclo se repite cada vez que se le sume 1 al valor de year, y este termina cuando la condición de while sea falsa\n",
    "    a *= 1.02\n",
    "    b *= 1.03\n",
    "if b>a:\n",
    "    print(\"Para\",year, \"el país B habrá superado la población del país A\") #Se hace una última condición e imprimirá el año en el que el país B tenga mayor población que la del A"
   ]
  },
  {
   "cell_type": "code",
   "execution_count": null,
   "metadata": {},
   "outputs": [],
   "source": [
    "i = int(input(\"Ingrese el número que desea saber su factorial: \")) #se declara i como entero y se le pide al usuario que ingrese el valor inicial de este\n",
    "j = i #la variable j se usará como contador y guardará el valor del factorial\n",
    "while i>1: #mientras que i sea mayor que 1\n",
    "    i -= 1 #se le resta 1 a i cada vez que se repita el ciclo\n",
    "    j *= i #se multiplica j por el valor de j cadavez que se repita el ciclo\n",
    "print(\"El factorial del número ingresado es:\" ,j) #se imprime el valor de j, es decir el factorial del número ingresado por el usuario"
   ]
  },
  {
   "cell_type": "code",
   "execution_count": null,
   "metadata": {},
   "outputs": [],
   "source": [
    "inferior:int = 1 #se declara inferior como entero e inicia desde 1\n",
    "superior:int = 100 #se declara superior como entero e inicia desde 100\n",
    "respuesta = '' #respuesta es una variable tipo string\n",
    "while respuesta != '=': #Si el usuario ingresa la cadena = quiere decir que el algoritmo advinó su número\n",
    "  numero = (inferior + superior) // 2 #el valor de número será la suma de los valores de inferior y superior dividido entre 2, este será entero\n",
    "  respuesta = input(f\"¿Es {numero} mayor (>), menor (<) o igual (=) el número en el que estas pensando?\") #El usuario contanrá con tres opciones <, > y =, dependiendo de lo escoja, se efectuará un condiconal diferente\n",
    "  if respuesta == '>':\n",
    "    inferior = numero - 1\n",
    "  elif respuesta == '<':\n",
    "    superior = numero + 1\n",
    "print(f\"El número en que está pensando es {numero}\")#Cuando se rompa el ciclo, la consola mostarará el valor que el usuario pensó"
   ]
  },
  {
   "cell_type": "code",
   "execution_count": null,
   "metadata": {},
   "outputs": [],
   "source": [
    "i = int(input(\"Ingrese un número natural entre 2 y 50: \")) #se decalara i como entero y el usuario determinará su valor\n",
    "j = 1 #j será también un entero que inice desde 1, servirá como contador\n",
    "while i<2 or i>50:\n",
    "    i = int(input(\"¿Papi yo hablo en chino? Dije un número natural entre 2 y 50: \")) #en dado caso de que el usuario sea bobo, se imprimirá el siguiente mensaje hasta que ingrese un valor apropiado\n",
    "print(\"Los números divisibles de\",i, \"son:\")#se imprime el siguiente mensaje\n",
    "while i>=j: #mientras que el valor de i sea mayor o igual a j, se repetirá el ciclo\n",
    "    if i%j == 0:\n",
    "        print(j) #si el residuo de la división entre i y j es igual a 0, se imprimirá j\n",
    "    j += 1 #esto se repite hasta que j sea igual i"
   ]
  },
  {
   "cell_type": "code",
   "execution_count": null,
   "metadata": {},
   "outputs": [],
   "source": [
    "def es_primo(numero): \n",
    "    i = 2\n",
    "    if numero < 2:\n",
    "        return False\n",
    "    while i != int(numero**0.5) + 1:\n",
    "        if numero % i == 0:\n",
    "          return False\n",
    "        i += 1  \n",
    "    return True\n",
    "x = 1\n",
    "while x != 100:\n",
    "  if es_primo(x): \n",
    "     print(x)\n",
    "  x += 1"
   ]
  }
 ],
 "metadata": {
  "language_info": {
   "name": "python"
  },
  "orig_nbformat": 4
 },
 "nbformat": 4,
 "nbformat_minor": 2
}
